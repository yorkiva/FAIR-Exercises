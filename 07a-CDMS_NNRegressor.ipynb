{
 "cells": [
  {
   "cell_type": "markdown",
   "id": "8fa7657c",
   "metadata": {},
   "source": [
    "## Introduction to Neural Networks: Multi-layer Perceptrons\n",
    "\n",
    "In this notebook, we will start looking at a Neural Network based model for the regression problem on the CDMS dataset. The problem remains the same- we want to predict the impact location of a potential dark matter candidate on the detector prototype based on the phonon resonance timing measurements obtained from its different channels. The simplest form of a neural net is called a multi-layer perceptron (MLP). A fully connected MLP, also called a Dense Network sometimes, follows a simple construction. The architecture is described in terms of *layers*. The very first layer is composed of the input values and the very last layer is essentially the desired output. Each numerical component of a layer is called a *node*, so the number of nodes in the input layer is essentially the same as the dimension of the input feature space. Each layer between the input and output layers is called a hidden layer. Each hidden layer is constructed as a linear combination of the outputs of the previous layer and its output is transformed via a non-linear activation (like a sigmoid function). If a NN with $N$ hidden layers is designed approximate the following functional relationship between inputs $x$ and output $y$ such that\n",
    "\\begin{equation}\n",
    "y = f(x)\n",
    "\\end{equation}\n",
    "then the hidden layers are defined as\n",
    "\\begin{equation}\n",
    "h_{i+1} = \\sigma (W_{i+1} h_i + b_{i+1})\n",
    "\\end{equation}\n",
    "where $W_i, b_i$ respective represent the weights and biases of the $i$-th hidden layer, $\\sigma$ represents a non-linear activation function, and the index $i$ runs from $0$ to $N-1$. The initial and final layers are given as\n",
    "\\begin{equation}\n",
    "h_0 \\equiv x \\\\\n",
    "h_{N+1} \\equiv y\n",
    "\\end{equation}\n",
    "\n",
    "Our job is the determine the right set of model parameters, in this case the $W_i, b_i$ values, so that the NN can determine the functional relationship between the input and the output as closely as apossible. How this is done will be explained in greater details later. For the time being, we will look at data processing and model building. We will use the `PyTorch` libraries for creating our MLP network. Let's start by importing the necessary libraries."
   ]
  },
  {
   "cell_type": "code",
   "execution_count": 1,
   "id": "31da1c8a",
   "metadata": {},
   "outputs": [],
   "source": [
    "import numpy as np\n",
    "from sklearn.model_selection import *\n",
    "import torch\n",
    "from torch import nn\n",
    "from torch import optim\n",
    "from torch.utils.data import DataLoader\n",
    "import pandas as pd\n",
    "from matplotlib import pyplot as plt"
   ]
  },
  {
   "cell_type": "markdown",
   "id": "96ccc13d",
   "metadata": {},
   "source": [
    "Now we will load our data. PyTorch has a number of facilities that allow memor efficient data processing and loading. However, given it is a simple and small dataset, we'll stick to importing the data via `pandas` and storing them as `NumPy` arrays. Also note that in the following code block, we don't split the features and outputs right away. Additionally, the data standardization is only applied to the input features while the output is kept unnormalized."
   ]
  },
  {
   "cell_type": "code",
   "execution_count": 2,
   "id": "2a8cf63a",
   "metadata": {},
   "outputs": [],
   "source": [
    "## Get the dataset as numpy array\n",
    "\n",
    "data = pd.read_csv('data/CDMS_Dataset.csv', sep=',')\n",
    "\n",
    "features = list(data.columns)[1:]\n",
    "xy_data = data.values[:,1:]\n",
    "n_features = len(features) - 1\n",
    "\n",
    "def split_data(split_type='random', labels = []):\n",
    "    if split_type == 'random':\n",
    "        XY_train, XY_test  = train_test_split(xy_data, test_size=0.25)\n",
    "    if split_type == 'label':\n",
    "        XY_train = data.loc[~data[features[-1]].isin(labels)].values[:, 1:]\n",
    "        XY_test = data.loc[data[features[-1]].isin(labels)].values[:, 1:]\n",
    "        \n",
    "    XY_train, XY_valid = train_test_split(XY_train, test_size=0.2, stratify=XY_train[:, -1])\n",
    "    x_mean = np.mean(XY_train[:,:-1], axis = 0)\n",
    "    x_std  = np.std(XY_train[:,:-1], axis = 0)\n",
    "    XY_train[:,:-1] = (XY_train[:,:-1] - x_mean)/x_std\n",
    "    XY_test[:,:-1]  = (XY_test[:,:-1] - x_mean)/x_std\n",
    "    XY_valid[:,:-1]  = (XY_valid[:,:-1] - x_mean)/x_std\n",
    "    \n",
    "    return XY_train, XY_valid, XY_test, x_mean, x_std"
   ]
  },
  {
   "cell_type": "markdown",
   "id": "de88b900",
   "metadata": {},
   "source": [
    "You can see we have generated three separate outputs here. \n",
    "\n",
    "- The `XY_test` dataset is associated with a subset of the data corresponding to a certain subset of impact locations in the dataset which the neural network never learns about during training. The performance of the NN on this dataset will shed light on its ability to interpolate for new impact locations. \n",
    "- On the other hand, the `XY_valid` is called the validation dataset- they are obtained from the same sample space as the training data. The performance of the NN on this dataset can be used to assure that the NN doesn't overtrain- i.e. so precisely tunes its parameters to correctly predict the outputs for the training dataset that it fails to generalize for datasets beyond the training subset\n",
    "- And finally, there is the training dataset `XY_train`. This is the dataset that we will use to train the NN, i.e. the NN's model parameters will be optimized to predict the outputs for this subset of the data as accurately as possible (without overtraining).\n",
    "\n",
    "Now, we will create a class to construct the network. It will be inherited from PyTorch's `nn.Module` class. While this class can typically include user defined custom methods, defining an inheritance class from `nn.Module` definitely requires defining the `forward` method- which tells what the output of the model will be when some data is given as input to it."
   ]
  },
  {
   "cell_type": "code",
   "execution_count": 3,
   "id": "e30e54e4",
   "metadata": {},
   "outputs": [],
   "source": [
    "## Defining a class for a generic MLP\n",
    "\n",
    "class Network(nn.Module):\n",
    "    def __init__(self, Layers, device, activation, \n",
    "                 end_in_sigmoid = False,\n",
    "                 add_dropout = False,\n",
    "                 add_batchnorm = False):\n",
    "        super(Network, self).__init__()\n",
    "        self.Layers = Layers\n",
    "        self.device = device\n",
    "        self.activation = activation\n",
    "        self.end_in_sigmoid = end_in_sigmoid\n",
    "        self.add_dropout = add_dropout,\n",
    "        self.add_batchnorm = add_batchnorm,\n",
    "        self.nn = self.build_model().to(device)\n",
    "        \n",
    "    def build_model(self):\n",
    "        Seq = nn.Sequential()\n",
    "        for ii in range(len(self.Layers)-1):\n",
    "            this_module = nn.Linear(self.Layers[ii], self.Layers[ii+1])\n",
    "            Seq.add_module(\"Linear\" + str(ii), this_module)\n",
    "            if not (ii == len(self.Layers)-2):\n",
    "                if self.add_batchnorm[0]:\n",
    "                    Seq.add_module(\"BatchNorm\" + str(ii), nn.BatchNorm1d(self.Layers[ii+1]))\n",
    "                Seq.add_module(\"Activation\" + str(ii), self.activation)\n",
    "                if self.add_dropout[0]:\n",
    "                    Seq.add_module(\"Dropout\" +str(ii), nn.Dropout(p=0.5, inplace=False))\n",
    "            if self.end_in_sigmoid:\n",
    "                Seq.add_module(\"Sigmoid\" + str(ii), nn.Sigmoid())\n",
    "        return Seq\n",
    "    \n",
    "    def forward(self, X):\n",
    "        X = X.to(self.device)\n",
    "        return self.nn(X)"
   ]
  },
  {
   "cell_type": "markdown",
   "id": "52774c4b",
   "metadata": {},
   "source": [
    "Now we want to create the functionality of training the NN, i.e. determining its parameters. Below, we create a custom class for our regression problem which constructs our NN and also provides a `train()` method, that can be used to train the NN. The training is done minimizing a loss function. In this case we are going to use the mean squared error (MSE) loss, which determines the averaged squared difference between true values of the desired output and the NN-evaluated values.\n",
    "\n",
    "\\begin{equation}\n",
    "\\mathcal{L}_{MSE} = \\frac{1}{N}\\sum_{i=1}^N \\left(y_i - f(x_i)\\right)^2\n",
    "\\end{equation}\n",
    "\n",
    "During each iteration, the parameters receive a correction based on how large their impact is on the loss function. \n",
    "\n",
    "\\begin{equation}\n",
    "\\theta_i^{(m+1)} = \\theta_i^{(m)} - \\eta \\frac{\\partial \\mathcal{L}}{\\partial \\theta}\n",
    "\\end{equation}\n",
    "Here $\\theta$ represents any of the model parameters and $\\eta$ is called learning rate, which is one of the hyperparameters of the model. This method of obtaining correction for model parameters is called the method of Gradient Descent. However, we typically don't use the entire dataset to perform gradient descent. During each iteration over the entire dataset, we divide the dataset into smaller subsets called *minibatches*. We choose these subsets so that each of them has substantially lower number of data entries but still has just enough data to represent the underlying physical probability distribution of the training dataset. This method is called **stochastic gradient descent**, which is typically much faster than the naive gradient descent method. The size of the minibatch is yet another hyperparameter of the model, and so is the number of iterations (also called epochs) used to train the model.\n",
    "\n",
    "AS you cans see, the `train()` method takes three arguments here. `n_epoch` and `batch_size` represent the hyperparameters number of epochs and minibatch size as described above. The other one is `lossfn` which is the loss function to be used to train the model."
   ]
  },
  {
   "cell_type": "code",
   "execution_count": 4,
   "id": "ecee55b3",
   "metadata": {},
   "outputs": [],
   "source": [
    "class CDMS_Regressor:\n",
    "    def __init__(self, Layers, XY_train, XY_valid, XY_test, device, activation=nn.Sigmoid()):\n",
    "        self.XY_train = torch.tensor(XY_train, dtype = torch.float32, device = device)\n",
    "        self.XY_test  = torch.tensor(XY_test,  dtype = torch.float32, device = device)\n",
    "        self.XY_valid = torch.tensor(XY_valid, dtype = torch.float32, device = device)\n",
    "        self.device = device\n",
    "        self.MLP = Network(Layers, device, activation, \n",
    "                           end_in_sigmoid = False,\n",
    "                           add_dropout = True,\n",
    "                           add_batchnorm = True)\n",
    "        \n",
    "    def predict(self,X):\n",
    "        return self.MLP.forward(X).to(self.device)\n",
    "    \n",
    "    def Train(self, n_epochs, batch_size, lossfn):\n",
    "        Train_Losses = []\n",
    "        Validation_Losses = []\n",
    "        Test_Losses = []\n",
    "        params = list(self.MLP.nn.parameters())\n",
    "        optimizer = optim.Adam(params, lr=1e-3)\n",
    "        for ii in range(n_epochs):\n",
    "            self.MLP.train()\n",
    "            DL = DataLoader(self.XY_train, batch_size=batch_size, shuffle=True, drop_last=True)\n",
    "            for xy in DL:\n",
    "                optimizer.zero_grad()\n",
    "                y_pred = self.predict(xy[:,:-1]).reshape(-1)\n",
    "                loss = torch.sqrt(lossfn(y_pred, xy[:,-1].reshape(-1)))\n",
    "                loss.backward()\n",
    "                optimizer.step()\n",
    "                \n",
    "            self.MLP.eval()    \n",
    "            with torch.no_grad():\n",
    "                train_loss = np.sqrt(float(lossfn(self.predict(self.XY_train[:,:-1]).reshape(-1), \n",
    "                                                  self.XY_train[:,-1])))\n",
    "                test_loss =  np.sqrt(float(lossfn(self.predict(self.XY_test[:,:-1]).reshape(-1), \n",
    "                                                  self.XY_test[:,-1])))\n",
    "                val_loss =   np.sqrt(float(lossfn(self.predict(self.XY_valid[:,:-1]).reshape(-1), \n",
    "                                                  self.XY_valid[:,-1])))\n",
    "                Train_Losses.append(train_loss)\n",
    "                Test_Losses.append(test_loss)\n",
    "                Validation_Losses.append(val_loss)\n",
    "                \n",
    "                if ii % int(n_epochs/10) == 0 or ii == n_epochs - 1:\n",
    "                    print(\"Epoch {0}/{1}, Training Loss = {2:0.4f}, Validation Loss = {3:0.4f}, Test Loss = {4:0.4f}\".format(ii, n_epochs, train_loss, val_loss, test_loss))\n",
    "            \n",
    "        \n",
    "        return Train_Losses, Test_Losses, Validation_Losses\n",
    " "
   ]
  },
  {
   "cell_type": "markdown",
   "id": "a35a8cf2",
   "metadata": {},
   "source": [
    "Now we perform the actual fitting. We need to decide how many hidden layers we want and how many nodes we want for each layer. These details again are additional hyperparameters of the model. In this problem, we will use a simple network with one hidden layer and use 32 nodes for the hidden layer. The activation function we are going to use is called `LeakyReLU` function, defined as-\n",
    "\n",
    "\\begin{equation}\n",
    "\\mathrm{LeakyReLU} (x) = \\begin{cases}\n",
    "x; \\quad  x \\ge 0 \\\\\n",
    "mx; \\quad x < 0\n",
    "\\end{cases}\n",
    "\\end{equation}\n",
    "where $m$ is generally a small positive number. Let's now train the model."
   ]
  },
  {
   "cell_type": "code",
   "execution_count": 5,
   "id": "71342ae7",
   "metadata": {},
   "outputs": [
    {
     "name": "stdout",
     "output_type": "stream",
     "text": [
      "Epoch 0/100, Training Loss = 23.6176, Validation Loss = 23.6023, Test Loss = 30.2627\n",
      "Epoch 10/100, Training Loss = 7.0905, Validation Loss = 7.0100, Test Loss = 11.0949\n",
      "Epoch 20/100, Training Loss = 1.9805, Validation Loss = 1.9554, Test Loss = 2.2737\n",
      "Epoch 30/100, Training Loss = 1.8398, Validation Loss = 1.8276, Test Loss = 2.2254\n",
      "Epoch 40/100, Training Loss = 1.7918, Validation Loss = 1.7665, Test Loss = 2.3288\n",
      "Epoch 50/100, Training Loss = 1.6203, Validation Loss = 1.5915, Test Loss = 1.9770\n",
      "Epoch 60/100, Training Loss = 1.6804, Validation Loss = 1.6503, Test Loss = 2.0657\n",
      "Epoch 70/100, Training Loss = 1.5778, Validation Loss = 1.5412, Test Loss = 1.7220\n",
      "Epoch 80/100, Training Loss = 1.7213, Validation Loss = 1.6898, Test Loss = 2.2021\n",
      "Epoch 90/100, Training Loss = 1.7891, Validation Loss = 1.7545, Test Loss = 2.3751\n",
      "Epoch 99/100, Training Loss = 1.5932, Validation Loss = 1.5629, Test Loss = 2.0547\n"
     ]
    }
   ],
   "source": [
    "NhiddenLayers = 1\n",
    "NNodes = 32\n",
    "Layers = [n_features] + NhiddenLayers*[NNodes] + [1]\n",
    "XY_train, XY_valid, XY_test,  x_mean, x_std = split_data('label', [-12.502, -29.5, -41.9])\n",
    "lossfn = nn.MSELoss()\n",
    "device = torch.device('cpu')\n",
    "activation = nn.LeakyReLU(negative_slope=0.01)\n",
    "n_epochs = 100\n",
    "batch_size = 128\n",
    "\n",
    "NNreg = CDMS_Regressor(Layers = Layers, \n",
    "                      XY_train = XY_train, \n",
    "                      XY_test = XY_test, \n",
    "                      XY_valid = XY_valid,\n",
    "                      device = device, \n",
    "                      activation=activation)\n",
    "\n",
    "Train_Losses, Test_Losses, Validation_Losses = NNreg.Train(n_epochs = n_epochs,\n",
    "                                                           batch_size = batch_size,\n",
    "                                                           lossfn = lossfn)\n"
   ]
  },
  {
   "cell_type": "markdown",
   "id": "9022a36f",
   "metadata": {},
   "source": [
    "You can try to change different hyperparameters of the model and see how the model's performace changes. Try using different batch sizes, adding more hidden layers, chaning the activation function. Also, in the model description, there are a couple of flag variables called `add_dropout` and `add_batchnorm`. I would strongly suggest you to try changing them and see how the behavior and the performance of the model changes.\n",
    "\n",
    "Now, we will evaluate the performance of the model. First, let's check the evolution of the loss function for training, validation, and test datasets."
   ]
  },
  {
   "cell_type": "code",
   "execution_count": 6,
   "id": "411edca8",
   "metadata": {},
   "outputs": [
    {
     "data": {
      "text/plain": [
       "<matplotlib.legend.Legend at 0x7f3990132c10>"
      ]
     },
     "execution_count": 6,
     "metadata": {},
     "output_type": "execute_result"
    },
    {
     "data": {
      "image/png": "[encoded data removed]",
      "text/plain": [
       "<Figure size 432x288 with 1 Axes>"
      ]
     },
     "metadata": {
      "needs_background": "light"
     },
     "output_type": "display_data"
    }
   ],
   "source": [
    "plt.scatter(np.arange(1,n_epochs+1), Train_Losses, marker='x', label=\"Training Loss\")\n",
    "plt.scatter(np.arange(1,n_epochs+1), Validation_Losses, label=\"Validation Loss\")\n",
    "plt.scatter(np.arange(1,n_epochs+1), Test_Losses, label=\"Test Loss\")\n",
    "plt.xlabel(\"Epochs\")\n",
    "plt.ylabel(\"RMSE Loss\")\n",
    "plt.legend(fontsize=12)"
   ]
  },
  {
   "cell_type": "markdown",
   "id": "82d2a042",
   "metadata": {},
   "source": [
    "And finally, we will check the performance of the model against the true data for different datasets."
   ]
  },
  {
   "cell_type": "code",
   "execution_count": 7,
   "id": "0f8ae14a",
   "metadata": {},
   "outputs": [
    {
     "data": {
      "text/plain": [
       "<matplotlib.legend.Legend at 0x7f3983ff8cd0>"
      ]
     },
     "execution_count": 7,
     "metadata": {},
     "output_type": "execute_result"
    },
    {
     "data": {
      "image/png": "[encoded data removed]",
      "text/plain": [
       "<Figure size 432x288 with 1 Axes>"
      ]
     },
     "metadata": {
      "needs_background": "light"
     },
     "output_type": "display_data"
    }
   ],
   "source": [
    "y_orig = NNreg.XY_test[:,-1].cpu().detach().numpy()\n",
    "y_pred = NNreg.predict(NNreg.XY_test[:,:-1]).reshape(-1).cpu().detach().numpy()\n",
    "plt.scatter(y_orig, y_pred, label='Test data')\n",
    "y_orig_2 = NNreg.XY_train[:,-1].cpu().detach().numpy()\n",
    "y_pred_2 = NNreg.predict(NNreg.XY_train[:,:-1]).reshape(-1).cpu().detach().numpy()\n",
    "plt.scatter(y_orig_2, y_pred_2, label='Training data')\n",
    "y_orig_2 = NNreg.XY_valid[:,-1].cpu().detach().numpy()\n",
    "y_pred_2 = NNreg.predict(NNreg.XY_valid[:,:-1]).reshape(-1).cpu().detach().numpy()\n",
    "plt.scatter(y_orig_2, y_pred_2, label='Validation data')\n",
    "plt.plot(y_orig_2, y_orig_2, color='k')\n",
    "plt.legend()"
   ]
  }
 ],
 "metadata": {
  "kernelspec": {
   "display_name": "Python 3 (ipykernel)",
   "language": "python",
   "name": "python3"
  },
  "language_info": {
   "codemirror_mode": {
    "name": "ipython",
    "version": 3
   },
   "file_extension": ".py",
   "mimetype": "text/x-python",
   "name": "python",
   "nbconvert_exporter": "python",
   "pygments_lexer": "ipython3",
   "version": "3.7.11"
  }
 },
 "nbformat": 4,
 "nbformat_minor": 5
}
