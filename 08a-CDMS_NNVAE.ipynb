{
 "cells": [
  {
   "cell_type": "markdown",
   "id": "954ee364",
   "metadata": {},
   "source": [
    "## Introduction to Variational Auto Encoders (VAEs)\n",
    "\n",
    "This notebook will introduce generative models, VAEs in particular. Earlier, we used an MLP to predict the impact location on the CDMS prototype detector based on timing measurements. However, in many applications in HEP, we need to simulate the behavior of the detector and obtain simulated dataset to be matched against the data. In this notebook, our focus is on learning the joint distribution of the timing measurements and the impact location via a NN. \n",
    "\n",
    "A VAE consists of two networks. The first network is called an **Encoder**, that maps the input features $(\\mathbf{x})$ to a lower dimensional *latent* feature space $(\\mathbf{z})$. The idea of the Encoder network is to map the unknown, perhaps complicated and untractable distribution of the input feature space to a known and tractable distribution in the latent space. Generally, the preferred choice of distribution for the latent features space is a Gaussian distribution whose mean $(\\mu)$ and variances $(\\sigma^2)$ are predicted by the Encoder network.\n",
    "\n",
    "\\begin{equation}\n",
    "\\mu, \\log\\sigma^2 = \\mathrm{EncoderNN}_\\theta(x)\n",
    "\\end{equation}\n",
    "\n",
    "here $\\theta$ represents the trainable parameters of the Encoder network.\n",
    "\n",
    "**Can you think of a reason why we calculate the logarithm of the variance from the Encoder network instead of the variance directly?**\n",
    "\n",
    "The second part of the VAE is, as you may intuitively guess, is called a **Decoder**. It is trained to predict a sample point in the input feature space from a sample in the latent space. The input dimension of the Decoder network is the same as the dimension of the latent space and the output is of the same dimension as the original input feature space.\n",
    "\n",
    "\\begin{equation}\n",
    "z \\sim \\mathcal{N}(\\mu, \\sigma^2) \\\\\n",
    "\\tilde{x} = \\mathrm{DecoderNN}_\\phi(z)\n",
    "\\end{equation}\n",
    "\n",
    "here $\\phi$ represents the set of trainable parameters of the Decoder network and $\\tilde{x}$ is the prediction of the Decoder network for a sample, $z$, taken from the latent space. \n",
    "\n",
    "To train a VAE means to have the distribution of the Decoder predicted sample, $\\tilde{x}$, be as close as to the input feature distribution, $x$. Simultaneously, we want the latent space distribution to be tractable and impervious to overfitting the inherent statistical fluctuations in the input feature distributions. The first part can be accomplised by minimizing the MSE loss between $x$ and $\\tilde{x}$.\n",
    "\n",
    "\\begin{equation}\n",
    "\\mathcal{L}_{MSE} = \\frac{1}{N}\\sum_{i=0}^{N-1}\\left(x_i - \\tilde{x}_i\\right)^2\n",
    "\\end{equation}\n",
    "\n",
    "For the second part, we want to make the parameterized, marginal distribution of the latent space $p_\\theta(z|x)$ to be as close as possible to the prior distribution of $z$, given by $q(z) \\sim \\mathcal{N}(0,1)$. This is done by minimizing the so-called **KL Divergence** between these two distributions. The KL-divergence between two distributions is obtained by-\n",
    "\n",
    "\\begin{equation}\n",
    "\\mathrm{KL}(p_1(y)||p_2(y)) = \\mathbf{E}_{p_1}\\left(\\log{\\frac{p_1(y)}{p_2(y)}} \\right)\n",
    "\\end{equation}\n",
    "\n",
    "KL divergence is non-negative and is minimum when $p_1 = p2$. Also, it is not symmetric, i.e. $\\mathrm{KL}(p_1(y)||p_2(y)) \\neq \\mathrm{KL}(p_2(y)||p_1(y))$. Going back to the loss function for VAE training- it can be written as:\n",
    "\n",
    "\\begin{align}\n",
    "\\mathcal{L}_{VAE} &= \\mathcal{L}_{MSE} + \\mathcal{L}_{DL} \\\\\n",
    "& = \\frac{1}{N}\\sum_{i=0}^{N-1}\\left(x_i - \\tilde{x}_i\\right)^2 + \\mathrm{KL}(p_\\theta(z|x)||q(z))\n",
    "\\end{align}\n",
    "\n",
    "It can be shown that for $p_\\theta(z|x) \\sim \\mathcal{N}(\\mu, \\sigma^2)$ and $q(z) \\sim \\mathcal{N}(0,1)$, the KL-diveregence takes the following form:\n",
    "\n",
    "\n",
    "\\begin{equation}\n",
    "\\mathrm{KL}(p_\\theta(z|x)||q(z)) = -\\frac{1}{2N} \\sum_{i=0}^{N-1} \\left[ 1 + \\log\\sigma_i^2 -\\sigma_i^2 -\\mu_i^2 \\right]\n",
    "\\end{equation}\n",
    "\n",
    "A full derivation of the mathematical derivation of the VAE loss function can be found [in this paper](https://doi.org/10.48550/arXiv.1907.08956).\n",
    "\n",
    "In the following sections, we setup the code for training the VAE. Let's start by loading the necessary libraries."
   ]
  },
  {
   "cell_type": "code",
   "execution_count": 270,
   "id": "31da1c8a",
   "metadata": {},
   "outputs": [],
   "source": [
    "import numpy as np\n",
    "from sklearn.model_selection import *\n",
    "import torch\n",
    "from torch import nn\n",
    "from torch import optim\n",
    "from torch.utils.data import DataLoader\n",
    "import pandas as pd\n",
    "from matplotlib import pyplot as plt"
   ]
  },
  {
   "cell_type": "markdown",
   "id": "297fa8ab",
   "metadata": {},
   "source": [
    "Now we will get the data. Unlike our previous exercises, we will load the all the data features into the input vector for the Enoder network. So our input dimension for the Encoder network will be 20. We also want to make sure that the dataset has equal representation of all impact locations, so a uniform distribution can be assumed for the impact locations."
   ]
  },
  {
   "cell_type": "code",
   "execution_count": 271,
   "id": "2a8cf63a",
   "metadata": {},
   "outputs": [],
   "source": [
    "## Get the dataset as numpy array\n",
    "\n",
    "data = pd.read_csv('data/CDMS_Dataset.csv', sep=',')\n",
    "\n",
    "features = list(data.columns)[1:]\n",
    "xy_data = data.values[:,1:]\n",
    "# n_features = len(features) - 1\n",
    "\n",
    "# unique_ys = np.unique(xy_data[:,-1])\n",
    "# counts = []\n",
    "\n",
    "# for y in unique_ys:\n",
    "#     counts.append(int(np.sum(xy_data[:,-1] == y)))\n",
    "\n",
    "# min_count = min(counts)\n",
    "\n",
    "# xy_data_uniformized = np.zeros((min_count*len(unique_ys), n_features+1))\n",
    "# for ii,y in enumerate(unique_ys):\n",
    "#     indices = xy_data[:,-1] == y\n",
    "#     selected = xy_data[indices][:min_count, :]\n",
    "#     xy_data_uniformized[ii*min_count:(ii+1)*min_count, :] = selected\n",
    "\n",
    "# print(xy_data_uniformized)\n",
    "# xy_data = xy_data_uniformized\n",
    "y_norm = -41.9 # largest y dimension to be used to normalize y data\n",
    "x_mean = np.mean(xy_data[:,:-1], axis = 0).reshape(1, -1)\n",
    "x_std  = np.std(xy_data[:,:-1], axis = 0).reshape(1, -1)\n",
    "\n",
    "\n",
    "def split_data(split_type='random', labels = []):\n",
    "    if split_type == 'random':\n",
    "        XY_train, XY_test  = train_test_split(xy_data, test_size=0.25, stratify=xy_data[:, -1])\n",
    "    if split_type == 'label':\n",
    "        XY_train = data.loc[~data[features[-1]].isin(labels)].values[:, 1:]\n",
    "        XY_test = data.loc[data[features[-1]].isin(labels)].values[:, 1:]\n",
    "    XY_train[:,:-1] = (XY_train[:,:-1] - x_mean)/x_std\n",
    "    XY_test[:,:-1]  = (XY_test[:,:-1] - x_mean)/x_std\n",
    "    XY_train[:,-1]  = 1*(2*XY_train[:,-1]/y_norm - 1)\n",
    "    XY_test[:,-1]   = 1*(2*XY_test[:,-1]/y_norm -1)\n",
    "    \n",
    "    return XY_train, XY_test"
   ]
  },
  {
   "cell_type": "code",
   "execution_count": 272,
   "id": "e30e54e4",
   "metadata": {},
   "outputs": [],
   "source": [
    "## Defining a class for a generic MLP\n",
    "\n",
    "class Network(nn.Module):\n",
    "    def __init__(self, Layers, device, activation, \n",
    "                 end_in_sigmoid = False, \n",
    "                 add_dropout = False, \n",
    "                 add_batchnorm = False):\n",
    "        super(Network, self).__init__()\n",
    "        self.Layers = Layers\n",
    "        self.device = device\n",
    "        self.activation = activation\n",
    "        self.end_in_sigmoid = end_in_sigmoid\n",
    "        self.add_dropout = add_dropout,\n",
    "        self.add_batchnorm = add_batchnorm,\n",
    "        self.NN = self.build_model().to(device)\n",
    "        \n",
    "    def build_model(self):\n",
    "        Seq = nn.Sequential()\n",
    "        for ii in range(len(self.Layers)-1):\n",
    "            this_module = nn.Linear(self.Layers[ii], self.Layers[ii+1])\n",
    "            Seq.add_module(\"Linear\" + str(ii), this_module)\n",
    "            if not (ii == len(self.Layers)-2):\n",
    "                if self.add_batchnorm[0]:\n",
    "                    Seq.add_module(\"BatchNorm\" + str(ii), nn.BatchNorm1d(self.Layers[ii+1]))\n",
    "                Seq.add_module(\"Activation\" + str(ii), self.activation)\n",
    "                if self.add_dropout[0]:\n",
    "                    Seq.add_module(\"Dropout\" +str(ii), nn.Dropout(p=0.5, inplace=False))\n",
    "            if self.end_in_sigmoid:\n",
    "                Seq.add_module(\"Sigmoid\" + str(ii), nn.Sigmoid())\n",
    "        return Seq\n",
    "    \n",
    "    def forward(self, X):\n",
    "        X = X.to(self.device)\n",
    "        return self.NN(X)"
   ]
  },
  {
   "cell_type": "code",
   "execution_count": 273,
   "id": "ecee55b3",
   "metadata": {},
   "outputs": [],
   "source": [
    "class CDMS_NNSuite:\n",
    "    def __init__(self, XY_train, XY_test, device):\n",
    "        self.XY_train = torch.tensor(XY_train, dtype = torch.float32, device = device)\n",
    "        self.XY_test  = torch.tensor(XY_test,  dtype = torch.float32, device = device)\n",
    "        self.device = device\n",
    "\n",
    "    \n",
    "class CDMS_VAE(CDMS_NNSuite):\n",
    "    def __init__(self, XY_train, XY_test, \n",
    "                 enc_Layers, dec_Layers,\n",
    "                 device, activation=nn.Sigmoid()):\n",
    "        super().__init__(XY_train, XY_test, device)\n",
    "        self.enc_Layers = enc_Layers\n",
    "        self.dec_Layers = dec_Layers\n",
    "        self.Encoder = Network(enc_Layers, device, activation,\n",
    "                              end_in_sigmoid = False, \n",
    "                              add_dropout = False, \n",
    "                              add_batchnorm = False)\n",
    "        self.Decoder = Network(dec_Layers, device, activation)\n",
    "        \n",
    "    \n",
    "    def Evaluator(self, xy):\n",
    "        enc_output = self.Encoder.forward(xy).to(self.device)\n",
    "        mu, logvar = enc_output[:, :int(self.enc_Layers[-1]/2)], enc_output[:, int(self.enc_Layers[-1]/2):]\n",
    "        #print(mu.shape, logvar.shape)\n",
    "        z = mu + torch.exp(logvar/2)*torch.randn_like(mu) # reparameterization\n",
    "        z = z.reshape((-1, int(self.enc_Layers[-1]/2)))\n",
    "        #print(z.shape)\n",
    "        dec_output = self.Decoder(z).to(self.device)\n",
    "                \n",
    "        mse_loss = 0.5* torch.sum((dec_output.reshape(-1) - xy.reshape(-1))**2)/(xy.shape[0])\n",
    "        KL_div = -0.5 * torch.sum(1 + logvar - mu**2 - torch.exp(logvar))/(xy.shape[0])\n",
    "        \n",
    "        return mu, logvar, z, dec_output, mse_loss, KL_div\n",
    "    \n",
    "    \n",
    "    def Train(self, n_epochs, batch_size):\n",
    "        Train_MSE_Losses = []\n",
    "        Train_KL_Losses = []\n",
    "        Test_MSE_Losses = []\n",
    "        Test_KL_Losses = []\n",
    "        params = list(self.Encoder.NN.parameters()) + list(self.Decoder.NN.parameters())\n",
    "        optimizer = optim.Adam(params, lr=1e-3)\n",
    "        for ii in range(n_epochs):\n",
    "            self.Encoder.train()\n",
    "            self.Decoder.train()\n",
    "            DL = DataLoader(self.XY_train, batch_size=batch_size, shuffle=True, drop_last=True)\n",
    "            for xy in DL:\n",
    "                mu, logvar, z, dec_output, mse_loss, KL_div = self.Evaluator(xy)\n",
    "                optimizer.zero_grad()\n",
    "                total_loss = mse_loss + KL_div\n",
    "                \n",
    "                total_loss.backward()\n",
    "                optimizer.step()\n",
    "                \n",
    "            self.Encoder.eval()    \n",
    "            self.Decoder.eval()\n",
    "            with torch.no_grad():\n",
    "                mu, logvar, z, dec_output, mse_loss, KL_div = self.Evaluator(self.XY_train)\n",
    "                Train_MSE_Losses.append(mse_loss.item())\n",
    "                Train_KL_Losses.append(KL_div.item())\n",
    "                \n",
    "                mu, logvar, z, dec_output, mse_loss, KL_div = self.Evaluator(self.XY_test)\n",
    "                Test_MSE_Losses.append(mse_loss.item())\n",
    "                Test_KL_Losses.append(KL_div.item())\n",
    "                \n",
    "                if ii % int(n_epochs/10) == 0 or ii == n_epochs - 1:\n",
    "                    print('''Epoch {0}/{1}, \n",
    "                        Training MSE Loss = {2:0.4f} \n",
    "                        Training KL Div   = {3:0.4f}\n",
    "                        Test MSE Loss     = {4:0.4f}\n",
    "                        Test KL div       = {5:0.4f}\n",
    "                        '''.format(ii, n_epochs, \n",
    "                                   Train_MSE_Losses[-1], Train_KL_Losses[-1],\n",
    "                                   Test_MSE_Losses[-1],  Test_KL_Losses[-1]\n",
    "                                  )\n",
    "                         )\n",
    "            \n",
    "        \n",
    "        return Train_MSE_Losses, Train_KL_Losses, Test_MSE_Losses, Test_KL_Losses"
   ]
  },
  {
   "cell_type": "code",
   "execution_count": 286,
   "id": "6ad83289",
   "metadata": {},
   "outputs": [
    {
     "name": "stdout",
     "output_type": "stream",
     "text": [
      "Epoch 0/4000, \n",
      "                        Training MSE Loss = 9.7111 \n",
      "                        Training KL Div   = 0.0027\n",
      "                        Test MSE Loss     = 9.8097\n",
      "                        Test KL div       = 0.0028\n",
      "                        \n",
      "Epoch 400/4000, \n",
      "                        Training MSE Loss = 1.9707 \n",
      "                        Training KL Div   = 1.9067\n",
      "                        Test MSE Loss     = 2.0060\n",
      "                        Test KL div       = 1.9093\n",
      "                        \n",
      "Epoch 800/4000, \n",
      "                        Training MSE Loss = 1.8418 \n",
      "                        Training KL Div   = 1.9700\n",
      "                        Test MSE Loss     = 1.8860\n",
      "                        Test KL div       = 1.9730\n",
      "                        \n",
      "Epoch 1200/4000, \n",
      "                        Training MSE Loss = 1.7817 \n",
      "                        Training KL Div   = 2.0245\n",
      "                        Test MSE Loss     = 1.8147\n",
      "                        Test KL div       = 2.0259\n",
      "                        \n",
      "Epoch 1600/4000, \n",
      "                        Training MSE Loss = 1.7918 \n",
      "                        Training KL Div   = 2.0305\n",
      "                        Test MSE Loss     = 1.9061\n",
      "                        Test KL div       = 2.0301\n",
      "                        \n",
      "Epoch 2000/4000, \n",
      "                        Training MSE Loss = 1.8048 \n",
      "                        Training KL Div   = 1.9494\n",
      "                        Test MSE Loss     = 1.7866\n",
      "                        Test KL div       = 1.9527\n",
      "                        \n",
      "Epoch 2400/4000, \n",
      "                        Training MSE Loss = 1.7348 \n",
      "                        Training KL Div   = 1.9933\n",
      "                        Test MSE Loss     = 1.8110\n",
      "                        Test KL div       = 1.9973\n",
      "                        \n",
      "Epoch 2800/4000, \n",
      "                        Training MSE Loss = 1.6835 \n",
      "                        Training KL Div   = 2.0045\n",
      "                        Test MSE Loss     = 1.7692\n",
      "                        Test KL div       = 2.0081\n",
      "                        \n",
      "Epoch 3200/4000, \n",
      "                        Training MSE Loss = 1.6915 \n",
      "                        Training KL Div   = 1.9901\n",
      "                        Test MSE Loss     = 1.7720\n",
      "                        Test KL div       = 1.9930\n",
      "                        \n",
      "Epoch 3600/4000, \n",
      "                        Training MSE Loss = 1.7012 \n",
      "                        Training KL Div   = 1.9714\n",
      "                        Test MSE Loss     = 1.7845\n",
      "                        Test KL div       = 1.9740\n",
      "                        \n",
      "Epoch 3999/4000, \n",
      "                        Training MSE Loss = 1.6840 \n",
      "                        Training KL Div   = 1.9943\n",
      "                        Test MSE Loss     = 1.7865\n",
      "                        Test KL div       = 1.9952\n",
      "                        \n"
     ]
    }
   ],
   "source": [
    "NLatent = 4\n",
    "NNodes_enc = 32\n",
    "NNodes_dec = 128\n",
    "NhiddenLayers_enc = 2\n",
    "NhiddenLayers_dec = 2\n",
    "enc_Layers =  [n_features+1] + NhiddenLayers_enc*[NNodes_enc] + [2*NLatent]\n",
    "dec_Layers =  [NLatent]  + NhiddenLayers_dec*[NNodes_dec] + [n_features+1]\n",
    "# gen_Layers = [3, 32, 32, 20]\n",
    "# disc_Layers = [20, 128, 64, 1]\n",
    "XY_train, XY_test = split_data('random')\n",
    "lossfn = nn.MSELoss(reduction='mean')\n",
    "device = torch.device('cpu')\n",
    "#activation = nn.LeakyReLU(negative_slope=0.01)\n",
    "activation = nn.Sigmoid()\n",
    "n_epochs = 4000\n",
    "batch_size = 128\n",
    "\n",
    "\n",
    "NNvae =  CDMS_VAE(XY_train = XY_train, \n",
    "                  XY_test = XY_test, \n",
    "                  enc_Layers = enc_Layers, \n",
    "                  dec_Layers = dec_Layers,\n",
    "                  device = device, \n",
    "                  activation = activation)\n",
    "\n",
    "Train_MSE_Losses, Train_KL_Losses, Test_MSE_Losses, Test_KL_Losses = NNvae.Train(n_epochs = n_epochs,\n",
    "                                                                                 batch_size = batch_size\n",
    "                                                                                 )\n"
   ]
  },
  {
   "cell_type": "code",
   "execution_count": 277,
   "id": "6ba8c712",
   "metadata": {},
   "outputs": [],
   "source": [
    "with torch.no_grad():\n",
    "    mu, logvar, z, dec_output, mse_loss, KL_div = NNvae.Evaluator(NNvae.XY_train)\n",
    "    mu2, logvar2, z2, dec_output2, mse_loss2, KL_div2 = NNvae.Evaluator(NNvae.XY_test)"
   ]
  },
  {
   "cell_type": "markdown",
   "id": "44e5c0f9",
   "metadata": {},
   "source": [
    "Now let's explore the behavior of the model. First, we want to see how well the model behaves in reproducing the impact location from the decoder."
   ]
  },
  {
   "cell_type": "code",
   "execution_count": 278,
   "id": "8a1f61a6",
   "metadata": {},
   "outputs": [
    {
     "data": {
      "text/plain": [
       "<matplotlib.legend.Legend at 0x7fa233523090>"
      ]
     },
     "execution_count": 278,
     "metadata": {},
     "output_type": "execute_result"
    },
    {
     "data": {
      "image/png": "[encoded data removed]",
      "text/plain": [
       "<Figure size 432x288 with 1 Axes>"
      ]
     },
     "metadata": {
      "needs_background": "light"
     },
     "output_type": "display_data"
    }
   ],
   "source": [
    "f1_org = NNvae.XY_train[:,-1].numpy()\n",
    "f1_pred = dec_output[:,-1].detach().numpy()\n",
    "f1_org2 = NNvae.XY_test[:,-1].numpy()\n",
    "f1_pred2 = dec_output2[:,-1].detach().numpy()\n",
    "\n",
    "f1_org = (f1_org + 1)*y_norm/2\n",
    "f1_pred = (f1_pred + 1)*y_norm/2\n",
    "f1_org2 = (f1_org2 + 1)*y_norm/2\n",
    "f1_pred2 = (f1_pred2 + 1)*y_norm/2\n",
    "plt.scatter(f1_org, f1_pred, marker='x', label='Training Set')\n",
    "plt.scatter(f1_org2, f1_pred2, marker='.', label='Test Set')\n",
    "plt.plot(f1_org, f1_org, color='k')\n",
    "plt.xlabel('Actual Impact Location')\n",
    "plt.ylabel('Decoder Predicted Impact Location')\n",
    "plt.legend()"
   ]
  },
  {
   "cell_type": "markdown",
   "id": "5cef94e6",
   "metadata": {},
   "source": [
    "We can see that the model is somewhat poorly replicating the impact location at the extreme points while the performance is more reasonable for the intermediate locations. We can more closely inspect the distribution of the predicted impact locations from the decoder. Remember, in the normalized dataset, the location $y = -41.9$ represents at normalized value of 1 while $y = 0$ represents a normalized value of -1"
   ]
  },
  {
   "cell_type": "code",
   "execution_count": 279,
   "id": "4e9953a6",
   "metadata": {},
   "outputs": [],
   "source": [
    "XY = NNvae.XY_train\n",
    "output = dec_output\n",
    "\n",
    "indices = XY[:,-1]==-1\n",
    "data0 = XY[indices]\n",
    "sim0 = output[indices]\n",
    "\n",
    "indices = XY[:,-1]==1\n",
    "data1 = XY[indices]\n",
    "sim1 = output[indices]\n"
   ]
  },
  {
   "cell_type": "code",
   "execution_count": 280,
   "id": "fb1a8bbb",
   "metadata": {},
   "outputs": [
    {
     "data": {
      "text/plain": [
       "Text(0.5, 0, 'PCstart')"
      ]
     },
     "execution_count": 280,
     "metadata": {},
     "output_type": "execute_result"
    },
    {
     "data": {
      "image/png": "[encoded data removed]",
      "text/plain": [
       "<Figure size 432x288 with 1 Axes>"
      ]
     },
     "metadata": {
      "needs_background": "light"
     },
     "output_type": "display_data"
    }
   ],
   "source": [
    "feat_to_plot = 1\n",
    "_data = data0[:,feat_to_plot].numpy()*x_std[0,feat_to_plot] + x_mean[0,feat_to_plot]\n",
    "_sim = sim0[:,feat_to_plot].numpy()*x_std[0,feat_to_plot] + x_mean[0,feat_to_plot]\n",
    "\n",
    "bins = np.arange(min(_data), max(_data) + (max(_data) - min(_data))/10, (max(_data) - min(_data))/10)\n",
    "plt.hist(_sim, bins = bins, histtype='step', label='sim') # The simulated distribution of feature 1 for y = -1\n",
    "plt.hist(_data, bins = bins, histtype='step', label='data') # The actual distribution of feature 1 for y = -1\n",
    "plt.legend()\n",
    "plt.xlabel(features[feat_to_plot])"
   ]
  },
  {
   "cell_type": "code",
   "execution_count": 281,
   "id": "a66e9a9f",
   "metadata": {},
   "outputs": [
    {
     "data": {
      "text/plain": [
       "Text(0.5, 0, 'PCstart')"
      ]
     },
     "execution_count": 281,
     "metadata": {},
     "output_type": "execute_result"
    },
    {
     "data": {
      "image/png": "[encoded data removed]",
      "text/plain": [
       "<Figure size 432x288 with 1 Axes>"
      ]
     },
     "metadata": {
      "needs_background": "light"
     },
     "output_type": "display_data"
    }
   ],
   "source": [
    "feat_to_plot = 1\n",
    "_data = data1[:,feat_to_plot].numpy()*x_std[0,feat_to_plot] + x_mean[0,feat_to_plot]\n",
    "_sim = sim1[:,feat_to_plot].numpy()*x_std[0,feat_to_plot] + x_mean[0,feat_to_plot]\n",
    "\n",
    "bins = np.arange(min(_data), max(_data) + (max(_data) - min(_data))/10, (max(_data) - min(_data))/10)\n",
    "plt.hist(_sim, bins = bins, histtype='step', label='sim') # The simulated distribution of feature 1 for y = -1\n",
    "plt.hist(_data, bins = bins, histtype='step', label='data') # The actual distribution of feature 1 for y = -1\n",
    "plt.legend()\n",
    "plt.xlabel(features[feat_to_plot])"
   ]
  },
  {
   "cell_type": "markdown",
   "id": "2775f4b0",
   "metadata": {},
   "source": [
    "We can see that the model clearly has some bias in predicting the individual feature distributions both for $y=-1$ and $y=1$. The decoder-constructed distribution of \\texttt{PCstart} for $y = -1 (1)$, corresponding to impact location of 0 (-41.9), is rather right (left)-shifted compared to what we see in data. This trend also reflects the model's poorer reconstruction of the impact parameter for these extreme values.\n",
    "\n",
    "*Need to explore some additional models to get it right. Let's see*\n",
    "\n",
    "Next, let's try to look at the latent space. The latent space is expected to learn about the distribution of the input features. Hence, it can show strong correlation with the input features. Let's see how those distributions look like for the different impact locations."
   ]
  },
  {
   "cell_type": "code",
   "execution_count": 282,
   "id": "c9dbc288",
   "metadata": {},
   "outputs": [
    {
     "data": {
      "text/plain": [
       "<matplotlib.collections.PathCollection at 0x7fa233542410>"
      ]
     },
     "execution_count": 282,
     "metadata": {},
     "output_type": "execute_result"
    },
    {
     "data": {
      "image/png": "[encoded data removed]",
      "text/plain": [
       "<Figure size 432x288 with 1 Axes>"
      ]
     },
     "metadata": {
      "needs_background": "light"
     },
     "output_type": "display_data"
    }
   ],
   "source": [
    "y = XY[:,-1].numpy()\n",
    "_z0 = z[:,0].detach().flatten().numpy()\n",
    "_z1 = z[:,1].detach().flatten().numpy()\n",
    "_z2 = z[:,2].detach().flatten().numpy()\n",
    "plt.scatter(y,_z0,label='z0',marker='.', s=2)"
   ]
  },
  {
   "cell_type": "code",
   "execution_count": 283,
   "id": "75c31ebb",
   "metadata": {},
   "outputs": [
    {
     "data": {
      "text/plain": [
       "<matplotlib.collections.PathCollection at 0x7fa23116a9d0>"
      ]
     },
     "execution_count": 283,
     "metadata": {},
     "output_type": "execute_result"
    },
    {
     "data": {
      "image/png": "[encoded data removed]",
      "text/plain": [
       "<Figure size 432x288 with 1 Axes>"
      ]
     },
     "metadata": {
      "needs_background": "light"
     },
     "output_type": "display_data"
    }
   ],
   "source": [
    "plt.scatter(y,_z1,label='z1',marker='*',s=2)"
   ]
  },
  {
   "cell_type": "code",
   "execution_count": 284,
   "id": "d7f69a35",
   "metadata": {},
   "outputs": [
    {
     "data": {
      "text/plain": [
       "<matplotlib.collections.PathCollection at 0x7fa233227ad0>"
      ]
     },
     "execution_count": 284,
     "metadata": {},
     "output_type": "execute_result"
    },
    {
     "data": {
      "image/png": "[encoded data removed]",
      "text/plain": [
       "<Figure size 432x288 with 1 Axes>"
      ]
     },
     "metadata": {
      "needs_background": "light"
     },
     "output_type": "display_data"
    }
   ],
   "source": [
    "plt.scatter(y,_z2,label='z2',marker='+', s=2)"
   ]
  },
  {
   "cell_type": "markdown",
   "id": "1c8db3fe",
   "metadata": {},
   "source": [
    "As you can see, some of these latent spaces actually show a strong correlation with impact location while others are rather randomly distributed, showing almost no correlation. These patterns will vary every time you run the code and retrain the model, since there is no *a priori* way of telling how these correlations will build up during model training.\n",
    "\n",
    "You may have noted that the model's performance is not so great. Can you think of ways to improve it? Try changing the hyperparameters (number of layers, number of nodes per layer, number of epochs etc.) Also, there are modified architectures for VAE, like the so-called $\\beta$-VAE [(link to paper)](https://openreview.net/forum?id=Sy2fzU9gl). The $\\beta$-VAE architecture is expected to disentangle the dimensions of the latent space representation. Hence, it may allow a single latent space dimension to more strongly correlate with the impact location compared what you are seeing with the plain VAE architecture"
   ]
  }
 ],
 "metadata": {
  "kernelspec": {
   "display_name": "Python 3 (ipykernel)",
   "language": "python",
   "name": "python3"
  },
  "language_info": {
   "codemirror_mode": {
    "name": "ipython",
    "version": 3
   },
   "file_extension": ".py",
   "mimetype": "text/x-python",
   "name": "python",
   "nbconvert_exporter": "python",
   "pygments_lexer": "ipython3",
   "version": "3.7.11"
  }
 },
 "nbformat": 4,
 "nbformat_minor": 5
}
