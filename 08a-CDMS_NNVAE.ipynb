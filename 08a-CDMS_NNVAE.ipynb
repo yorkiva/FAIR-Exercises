{
 "cells": [
  {
   "cell_type": "markdown",
   "id": "954ee364",
   "metadata": {},
   "source": [
    "## Introduction to Variational Auto Encoders (VAEs)\n",
    "\n",
    "This notebook will introduce generative models, VAEs in particular. Earlier, we used an MLP to predict the impact location on the CDMS prototype detector based on timing measurements. However, in many applications in HEP, we need to simulate the behavior of the detector and obtain simulated dataset to be matched against the data. In this notebook, our focus is on learning the joint distribution of the timing measurements and the impact location via a NN. \n",
    "\n",
    "A VAE consists of two networks. The first network is called an **Encoder**, that maps the input features $(\\mathbf{x})$ to a lower dimensional *latent* feature space $(\\mathbf{z})$. The idea of the Encoder network is to map the unknown, perhaps complicated and untractable distribution of the input feature space to a known and tractable distribution in the latent space. Generally, the preferred choice of distribution for the latent features space is a Gaussian distribution whose mean $(\\mu)$ and variances $(\\sigma^2)$ are predicted by the Encoder network.\n",
    "\n",
    "\\begin{equation}\n",
    "\\mu, \\log\\sigma^2 = \\mathrm{EncoderNN}_\\theta(x)\n",
    "\\end{equation}\n",
    "\n",
    "here $\\theta$ represents the trainable parameters of the Encoder network.\n",
    "\n",
    "**Can you think of a reason why we calculate the logarithm of the variance from the Encoder network instead of the variance directly?**\n",
    "\n",
    "The second part of the VAE is, as you may intuitively guess, is called a **Decoder**. It is trained to predict a sample point in the input feature space from a sample in the latent space. The input dimension of the Decoder network is the same as the dimension of the latent space and the output is of the same dimension as the original input feature space.\n",
    "\n",
    "\\begin{equation}\n",
    "z \\sim \\mathcal{N}(\\mu, \\sigma^2) \\\\\n",
    "\\tilde{x} = \\mathrm{DecoderNN}_\\phi(z)\n",
    "\\end{equation}\n",
    "\n",
    "here $\\phi$ represents the set of trainable parameters of the Decoder network and $\\tilde{x}$ is the prediction of the Decoder network for a sample, $z$, taken from the latent space. \n",
    "\n",
    "To train a VAE means to have the distribution of the Decoder predicted sample, $\\tilde{x}$, be as close as to the input feature distribution, $x$. Simultaneously, we want the latent space distribution to be tractable and impervious to overfitting the inherent statistical fluctuations in the input feature distributions. The first part can be accomplised by minimizing the MSE loss between $x$ and $\\tilde{x}$.\n",
    "\n",
    "\\begin{equation}\n",
    "\\mathcal{L}_{MSE} = \\frac{1}{N}\\sum_{i=0}^{N-1}\\left(x_i - \\tilde{x}_i\\right)^2\n",
    "\\end{equation}\n",
    "\n",
    "For the second part, we want to make the parameterized, marginal distribution of the latent space $p_\\theta(z|x)$ to be as close as possible to the prior distribution of $z$, given by $q(z) \\sim \\mathcal{N}(0,1)$. This is done by minimizing the so-called **KL Divergence** between these two distributions. The KL-divergence between two distributions is obtained by-\n",
    "\n",
    "\\begin{equation}\n",
    "\\mathrm{KL}(p_1(y)||p_2(y)) = \\mathbf{E}_{p_1}\\left(\\log{\\frac{p_1(y)}{p_2(y)}} \\right)\n",
    "\\end{equation}\n",
    "\n",
    "KL divergence is non-negative and is minimum when $p_1 = p2$. Also, it is not symmetric, i.e. $\\mathrm{KL}(p_1(y)||p_2(y)) \\neq \\mathrm{KL}(p_2(y)||p_1(y))$. Going back to the loss function for VAE training- it can be written as:\n",
    "\n",
    "\\begin{align}\n",
    "\\mathcal{L}_{VAE} &= \\mathcal{L}_{MSE} + \\mathcal{L}_{DL} \\\\\n",
    "& = \\frac{1}{N}\\sum_{i=0}^{N-1}\\left(x_i - \\tilde{x}_i\\right)^2 + \\mathrm{KL}(p_\\theta(z|x)||q(z))\n",
    "\\end{align}\n",
    "\n",
    "It can be shown that for $p_\\theta(z|x) \\sim \\mathcal{N}(\\mu, \\sigma^2)$ and $q(z) \\sim \\mathcal{N}(0,1)$, the KL-diveregence takes the following form:\n",
    "\n",
    "\n",
    "\\begin{equation}\n",
    "\\mathrm{KL}(p_\\theta(z|x)||q(z)) = -\\frac{1}{2N} \\sum_{i=0}^{N-1} \\left[ 1 + \\log\\sigma_i^2 -\\sigma_i^2 -\\mu_i^2 \\right]\n",
    "\\end{equation}\n",
    "\n",
    "A full derivation of the mathematical derivation of the VAE loss function can be found [in this paper](https://doi.org/10.48550/arXiv.1907.08956).\n",
    "\n",
    "In the following sections, we setup the code for training the VAE. Let's start by loading the necessary libraries."
   ]
  },
  {
   "cell_type": "code",
   "execution_count": 2,
   "id": "31da1c8a",
   "metadata": {},
   "outputs": [],
   "source": [
    "import numpy as np\n",
    "from sklearn.model_selection import *\n",
    "import torch\n",
    "from torch import nn\n",
    "from torch import optim\n",
    "from torch.utils.data import DataLoader\n",
    "import pandas as pd\n",
    "from matplotlib import pyplot as plt"
   ]
  },
  {
   "cell_type": "markdown",
   "id": "297fa8ab",
   "metadata": {},
   "source": [
    "Now we will get the data. Unlike our previous exercises, we will load the all the data features into the input vector for the Enoder network. So our input dimension for the Encoder network will be 20. We also want to make sure that the dataset has equal representation of all impact locations, so a uniform distribution can be assumed for the impact locations."
   ]
  },
  {
   "cell_type": "code",
   "execution_count": 4,
   "id": "2a8cf63a",
   "metadata": {},
   "outputs": [
    {
     "name": "stdout",
     "output_type": "stream",
     "text": [
      "[[-7.140e-06  5.546e-05  4.091e-07 ...  1.590e-04  2.262e-04 -4.190e+01]\n",
      " [-6.190e-06  5.518e-05  1.451e-06 ...  1.420e-04  2.253e-04 -4.190e+01]\n",
      " [-4.630e-06  5.614e-05  4.625e-06 ...  1.250e-04  2.216e-04 -4.190e+01]\n",
      " ...\n",
      " [-2.500e-06 -1.680e-05 -1.530e-05 ...  1.862e-04  8.695e-05  0.000e+00]\n",
      " [-5.140e-06 -1.680e-05 -1.120e-05 ...  5.403e-05  4.833e-05  0.000e+00]\n",
      " [-5.850e-06 -1.550e-05 -1.160e-05 ...  1.466e-04  4.031e-05  0.000e+00]]\n"
     ]
    }
   ],
   "source": [
    "## Get the dataset as numpy array\n",
    "\n",
    "data = pd.read_csv('data/CDMS_Dataset.csv', sep=',')\n",
    "\n",
    "features = list(data.columns)[1:]\n",
    "xy_data = data.values[:,1:]\n",
    "n_features = len(features) - 1\n",
    "\n",
    "unique_ys = np.unique(xy_data[:,-1])\n",
    "counts = []\n",
    "\n",
    "for y in unique_ys:\n",
    "    counts.append(int(np.sum(xy_data[:,-1] == y)))\n",
    "\n",
    "min_count = min(counts)\n",
    "\n",
    "xy_data_uniformized = np.zeros((min_count*len(unique_ys), n_features+1))\n",
    "for ii,y in enumerate(unique_ys):\n",
    "    indices = xy_data[:,-1] == y\n",
    "    selected = xy_data[indices][:min_count, :]\n",
    "    xy_data_uniformized[ii*min_count:(ii+1)*min_count, :] = selected\n",
    "\n",
    "print(xy_data_uniformized)\n",
    "xy_data = xy_data_uniformized\n",
    "y_norm = -41.9 # largest y dimension to be used to normalize y data\n",
    "x_mean = np.mean(xy_data[:,:-1], axis = 0)\n",
    "x_std  = np.std(xy_data[:,:-1], axis = 0)\n",
    "\n",
    "\n",
    "def split_data(split_type='random', labels = []):\n",
    "    if split_type == 'random':\n",
    "        XY_train, XY_test  = train_test_split(xy_data, test_size=0.25, stratify=xy_data[:, -1])\n",
    "    if split_type == 'label':\n",
    "        XY_train = data.loc[~data[features[-1]].isin(labels)].values[:, 1:]\n",
    "        XY_test = data.loc[data[features[-1]].isin(labels)].values[:, 1:]\n",
    "    XY_train[:,:-1] = (XY_train[:,:-1] - x_mean)/x_std\n",
    "    XY_test[:,:-1]  = (XY_test[:,:-1] - x_mean)/x_std\n",
    "    XY_train[:,-1]  = 1*(2*XY_train[:,-1]/y_norm - 1)\n",
    "    XY_test[:,-1]   = 1*(2*XY_test[:,-1]/y_norm -1)\n",
    "    \n",
    "    return XY_train, XY_test"
   ]
  },
  {
   "cell_type": "code",
   "execution_count": 5,
   "id": "e30e54e4",
   "metadata": {},
   "outputs": [],
   "source": [
    "## Defining a class for a generic MLP\n",
    "\n",
    "class Network(nn.Module):\n",
    "    def __init__(self, Layers, device, activation, \n",
    "                 end_in_sigmoid = False, \n",
    "                 add_dropout = False, \n",
    "                 add_batchnorm = False):\n",
    "        super(Network, self).__init__()\n",
    "        self.Layers = Layers\n",
    "        self.device = device\n",
    "        self.activation = activation\n",
    "        self.end_in_sigmoid = end_in_sigmoid\n",
    "        self.add_dropout = add_dropout,\n",
    "        self.add_batchnorm = add_batchnorm,\n",
    "        self.NN = self.build_model().to(device)\n",
    "        \n",
    "    def build_model(self):\n",
    "        Seq = nn.Sequential()\n",
    "        for ii in range(len(self.Layers)-1):\n",
    "            this_module = nn.Linear(self.Layers[ii], self.Layers[ii+1])\n",
    "            Seq.add_module(\"Linear\" + str(ii), this_module)\n",
    "            if not (ii == len(self.Layers)-2):\n",
    "                if self.add_batchnorm[0]:\n",
    "                    Seq.add_module(\"BatchNorm\" + str(ii), nn.BatchNorm1d(self.Layers[ii+1]))\n",
    "                Seq.add_module(\"Activation\" + str(ii), self.activation)\n",
    "                if self.add_dropout[0]:\n",
    "                    Seq.add_module(\"Dropout\" +str(ii), nn.Dropout(p=0.5, inplace=False))\n",
    "            if self.end_in_sigmoid:\n",
    "                Seq.add_module(\"Sigmoid\" + str(ii), nn.Sigmoid())\n",
    "        return Seq\n",
    "    \n",
    "    def forward(self, X):\n",
    "        X = X.to(self.device)\n",
    "        return self.NN(X)"
   ]
  },
  {
   "cell_type": "code",
   "execution_count": 6,
   "id": "ecee55b3",
   "metadata": {},
   "outputs": [],
   "source": [
    "class CDMS_NNSuite:\n",
    "    def __init__(self, XY_train, XY_test, device):\n",
    "        self.XY_train = torch.tensor(XY_train, dtype = torch.float32, device = device)\n",
    "        self.XY_test  = torch.tensor(XY_test,  dtype = torch.float32, device = device)\n",
    "        self.device = device\n",
    "\n",
    "    \n",
    "class CDMS_VAE(CDMS_NNSuite):\n",
    "    def __init__(self, XY_train, XY_test, \n",
    "                 enc_Layers, dec_Layers,\n",
    "                 device, activation=nn.Sigmoid()):\n",
    "        super().__init__(XY_train, XY_test, device)\n",
    "        self.enc_Layers = enc_Layers\n",
    "        self.dec_Layers = dec_Layers\n",
    "        self.Encoder = Network(enc_Layers, device, activation,\n",
    "                              end_in_sigmoid = False, \n",
    "                              add_dropout = False, \n",
    "                              add_batchnorm = False)\n",
    "        self.Decoder = Network(dec_Layers, device, activation)\n",
    "        \n",
    "    \n",
    "    def Evaluator(self, xy, lossfn):\n",
    "        enc_output = self.Encoder.forward(xy).to(self.device)\n",
    "        mu, logvar = enc_output[:, :int(self.enc_Layers[-1]/2)], enc_output[:, int(self.enc_Layers[-1]/2):]\n",
    "        #print(mu.shape, logvar.shape)\n",
    "        z = mu + torch.exp(logvar/2)*torch.randn_like(mu) # reparameterization\n",
    "        z = z.reshape((-1, int(self.enc_Layers[-1]/2)))\n",
    "        #print(z.shape)\n",
    "        dec_output = self.Decoder(z).to(self.device)\n",
    "                \n",
    "        mse_loss = torch.sum((dec_output.reshape(-1) - xy.reshape(-1))**2)/xy.shape[0]\n",
    "        KL_div = -0.5 * torch.sum(1 + logvar - mu**2 - torch.exp(logvar))/xy.shape[0]\n",
    "        \n",
    "        return mu, logvar, z, dec_output, mse_loss, KL_div\n",
    "    \n",
    "    \n",
    "    def Train(self, n_epochs, batch_size, lossfn=nn.MSELoss(reduction='mean')):\n",
    "        Train_MSE_Losses = []\n",
    "        Train_KL_Losses = []\n",
    "        Test_MSE_Losses = []\n",
    "        Test_KL_Losses = []\n",
    "        params = list(self.Encoder.NN.parameters()) + list(self.Decoder.NN.parameters())\n",
    "        optimizer = optim.Adam(params, lr=1e-3)\n",
    "        for ii in range(n_epochs):\n",
    "            self.Encoder.train()\n",
    "            self.Decoder.train()\n",
    "            DL = DataLoader(self.XY_train, batch_size=batch_size, shuffle=True, drop_last=True)\n",
    "            for xy in DL:\n",
    "                mu, logvar, z, dec_output, mse_loss, KL_div = self.Evaluator(xy, lossfn)\n",
    "                optimizer.zero_grad()\n",
    "                total_loss = mse_loss + KL_div\n",
    "                \n",
    "                total_loss.backward()\n",
    "                optimizer.step()\n",
    "                \n",
    "            self.Encoder.eval()    \n",
    "            self.Decoder.eval()\n",
    "            with torch.no_grad():\n",
    "                mu, logvar, z, dec_output, mse_loss, KL_div = self.Evaluator(self.XY_train, lossfn)\n",
    "                Train_MSE_Losses.append(mse_loss.item())\n",
    "                Train_KL_Losses.append(KL_div.item())\n",
    "                \n",
    "                mu, logvar, z, dec_output, mse_loss, KL_div = self.Evaluator(self.XY_test, lossfn)\n",
    "                Test_MSE_Losses.append(mse_loss.item())\n",
    "                Test_KL_Losses.append(KL_div.item())\n",
    "                \n",
    "                if ii % int(n_epochs/10) == 0 or ii == n_epochs - 1:\n",
    "                    print('''Epoch {0}/{1}, \n",
    "                        Training MSE Loss = {2:0.4f} \n",
    "                        Training KL Div   = {3:0.4f}\n",
    "                        Test MSE Loss     = {4:0.4f}\n",
    "                        Test KL div       = {5:0.4f}\n",
    "                        '''.format(ii, n_epochs, \n",
    "                                   Train_MSE_Losses[-1], Train_KL_Losses[-1],\n",
    "                                   Test_MSE_Losses[-1],  Test_KL_Losses[-1]\n",
    "                                  )\n",
    "                         )\n",
    "            \n",
    "        \n",
    "        return Train_MSE_Losses, Train_KL_Losses, Test_MSE_Losses, Test_KL_Losses"
   ]
  },
  {
   "cell_type": "code",
   "execution_count": 7,
   "id": "6ad83289",
   "metadata": {},
   "outputs": [
    {
     "name": "stdout",
     "output_type": "stream",
     "text": [
      "Epoch 0/1000, \n",
      "                        Training MSE Loss = 19.3246 \n",
      "                        Training KL Div   = 0.0025\n",
      "                        Test MSE Loss     = 19.8602\n",
      "                        Test KL div       = 0.0025\n",
      "                        \n",
      "Epoch 100/1000, \n",
      "                        Training MSE Loss = 4.6160 \n",
      "                        Training KL Div   = 2.0194\n",
      "                        Test MSE Loss     = 5.0995\n",
      "                        Test KL div       = 2.0215\n",
      "                        \n",
      "Epoch 200/1000, \n",
      "                        Training MSE Loss = 4.0043 \n",
      "                        Training KL Div   = 2.0556\n",
      "                        Test MSE Loss     = 4.4151\n",
      "                        Test KL div       = 2.0574\n",
      "                        \n",
      "Epoch 300/1000, \n",
      "                        Training MSE Loss = 3.6975 \n",
      "                        Training KL Div   = 2.1534\n",
      "                        Test MSE Loss     = 4.0763\n",
      "                        Test KL div       = 2.1539\n",
      "                        \n",
      "Epoch 400/1000, \n",
      "                        Training MSE Loss = 3.4548 \n",
      "                        Training KL Div   = 2.2208\n",
      "                        Test MSE Loss     = 3.9166\n",
      "                        Test KL div       = 2.2199\n",
      "                        \n",
      "Epoch 500/1000, \n",
      "                        Training MSE Loss = 3.4986 \n",
      "                        Training KL Div   = 2.1810\n",
      "                        Test MSE Loss     = 3.9398\n",
      "                        Test KL div       = 2.1786\n",
      "                        \n",
      "Epoch 600/1000, \n",
      "                        Training MSE Loss = 3.3813 \n",
      "                        Training KL Div   = 2.2246\n",
      "                        Test MSE Loss     = 3.8660\n",
      "                        Test KL div       = 2.2222\n",
      "                        \n",
      "Epoch 700/1000, \n",
      "                        Training MSE Loss = 3.3093 \n",
      "                        Training KL Div   = 2.2385\n",
      "                        Test MSE Loss     = 3.7509\n",
      "                        Test KL div       = 2.2360\n",
      "                        \n",
      "Epoch 800/1000, \n",
      "                        Training MSE Loss = 3.2381 \n",
      "                        Training KL Div   = 2.2655\n",
      "                        Test MSE Loss     = 3.7080\n",
      "                        Test KL div       = 2.2624\n",
      "                        \n",
      "Epoch 900/1000, \n",
      "                        Training MSE Loss = 3.2340 \n",
      "                        Training KL Div   = 2.2239\n",
      "                        Test MSE Loss     = 3.8237\n",
      "                        Test KL div       = 2.2193\n",
      "                        \n",
      "Epoch 999/1000, \n",
      "                        Training MSE Loss = 3.1734 \n",
      "                        Training KL Div   = 2.3192\n",
      "                        Test MSE Loss     = 3.6677\n",
      "                        Test KL div       = 2.3135\n",
      "                        \n"
     ]
    }
   ],
   "source": [
    "NLatent = 3\n",
    "NNodes = 32\n",
    "NhiddenLayers = 2\n",
    "enc_Layers =  [n_features+1] + NhiddenLayers*[NNodes] + [2*NLatent]\n",
    "dec_Layers =  [NLatent]  + NhiddenLayers*[NNodes] + [n_features+1]\n",
    "# gen_Layers = [3, 32, 32, 20]\n",
    "# disc_Layers = [20, 128, 64, 1]\n",
    "XY_train, XY_test = split_data('random')\n",
    "lossfn = nn.MSELoss(reduction='mean')\n",
    "device = torch.device('cpu')\n",
    "#activation = nn.LeakyReLU(negative_slope=0.01)\n",
    "activation = nn.Sigmoid()\n",
    "n_epochs = 1000\n",
    "batch_size = 128\n",
    "\n",
    "\n",
    "NNvae =  CDMS_VAE(XY_train = XY_train, \n",
    "                  XY_test = XY_test, \n",
    "                  enc_Layers = enc_Layers, \n",
    "                  dec_Layers = dec_Layers,\n",
    "                  device = device, \n",
    "                  activation = activation)\n",
    "\n",
    "Train_MSE_Losses, Train_KL_Losses, Test_MSE_Losses, Test_KL_Losses = NNvae.Train(n_epochs = n_epochs,\n",
    "                                                                                 batch_size = batch_size,\n",
    "                                                                                 lossfn = lossfn)\n"
   ]
  },
  {
   "cell_type": "code",
   "execution_count": 8,
   "id": "6ba8c712",
   "metadata": {},
   "outputs": [],
   "source": [
    "mu, logvar, z, dec_output, mse_loss, KL_div = NNvae.Evaluator(NNvae.XY_train, lossfn)\n",
    "mu2, logvar2, z2, dec_output2, mse_loss2, KL_div2 = NNvae.Evaluator(NNvae.XY_test, lossfn)"
   ]
  },
  {
   "cell_type": "code",
   "execution_count": 9,
   "id": "1ed4c726",
   "metadata": {},
   "outputs": [
    {
     "data": {
      "text/plain": [
       "tensor(3.1862, grad_fn=<DivBackward0>)"
      ]
     },
     "execution_count": 9,
     "metadata": {},
     "output_type": "execute_result"
    }
   ],
   "source": [
    "torch.sum((NNvae.XY_train - dec_output)**2)/NNvae.XY_train.shape[0]"
   ]
  },
  {
   "cell_type": "code",
   "execution_count": 10,
   "id": "9cd31ff8",
   "metadata": {},
   "outputs": [
    {
     "data": {
      "text/plain": [
       "tensor([[ 0.6957,  0.1699, -1.0359, -0.2422, -0.0811,  0.2352,  0.7508, -0.6351,\n",
       "          0.1054, -0.0012, -0.0672, -0.0120,  0.0490,  0.3733,  0.4602,  0.6559,\n",
       "          0.3633,  0.2693,  0.6544,  0.0876],\n",
       "        [ 0.7186,  0.1312, -1.1141, -0.3345,  0.0337,  0.3958,  0.8283, -0.5009,\n",
       "          0.0096,  0.1836,  0.1751,  0.1313,  0.2250,  0.5031,  0.5253,  0.7758,\n",
       "          0.4167,  0.3139,  0.6692,  0.0681]], grad_fn=<SliceBackward0>)"
      ]
     },
     "execution_count": 10,
     "metadata": {},
     "output_type": "execute_result"
    }
   ],
   "source": [
    "dec_output[0:2,:]"
   ]
  },
  {
   "cell_type": "code",
   "execution_count": 11,
   "id": "841d9a5e",
   "metadata": {},
   "outputs": [
    {
     "data": {
      "text/plain": [
       "tensor([[ 1.1970,  0.2188, -0.8802, -0.4837,  0.3123,  0.8897,  0.5825, -0.2267,\n",
       "         -0.3826, -1.4298, -1.5469, -1.3631, -0.5221, -0.4593,  0.4034,  0.7277,\n",
       "         -0.8718,  0.1746,  0.3622, -0.0597],\n",
       "        [ 1.3877,  0.3888, -0.8405,  0.1386, -0.3180,  0.0878,  0.9857, -0.3894,\n",
       "          0.7380,  0.1058, -0.1066, -0.0771,  0.6594,  0.4361,  0.3143,  0.6718,\n",
       "         -0.3947,  0.5111,  0.9834,  0.1493]])"
      ]
     },
     "execution_count": 11,
     "metadata": {},
     "output_type": "execute_result"
    }
   ],
   "source": [
    "NNvae.XY_train[0:2,:]"
   ]
  },
  {
   "cell_type": "code",
   "execution_count": 12,
   "id": "931158f9",
   "metadata": {},
   "outputs": [
    {
     "data": {
      "text/plain": [
       "tensor([[ 0.0043,  0.2299,  0.0054],\n",
       "        [ 0.0105,  0.1583, -0.0066],\n",
       "        [ 0.0142, -0.2260, -0.0076],\n",
       "        ...,\n",
       "        [ 0.0076,  1.1698, -0.0072],\n",
       "        [ 0.0103, -0.0559, -0.0082],\n",
       "        [ 0.0074, -1.3151, -0.0083]], grad_fn=<SliceBackward0>)"
      ]
     },
     "execution_count": 12,
     "metadata": {},
     "output_type": "execute_result"
    }
   ],
   "source": [
    "mu"
   ]
  },
  {
   "cell_type": "code",
   "execution_count": 13,
   "id": "cb7866cd",
   "metadata": {},
   "outputs": [
    {
     "data": {
      "text/plain": [
       "tensor([[ 7.5413e-04, -5.8046e+00, -5.9696e-03],\n",
       "        [ 5.7666e-03, -4.9131e+00,  1.2043e-02],\n",
       "        [ 1.5782e-03, -5.1453e+00,  1.5670e-02],\n",
       "        ...,\n",
       "        [ 5.5711e-03, -3.1203e+00,  6.2488e-03],\n",
       "        [ 3.5042e-03, -4.8295e+00,  1.5270e-02],\n",
       "        [ 1.3258e-03, -4.9486e+00,  9.0430e-03]], grad_fn=<SliceBackward0>)"
      ]
     },
     "execution_count": 13,
     "metadata": {},
     "output_type": "execute_result"
    }
   ],
   "source": [
    "logvar"
   ]
  },
  {
   "cell_type": "code",
   "execution_count": 14,
   "id": "a1cf294d",
   "metadata": {},
   "outputs": [
    {
     "data": {
      "text/plain": [
       "tensor([[ 1.1668e+00,  1.4352e-01,  1.6322e-01],\n",
       "        [-1.8229e+00,  2.2071e-01,  1.0346e-01],\n",
       "        [-5.0192e-01,  3.6946e-02,  1.9557e+00],\n",
       "        ...,\n",
       "        [ 1.2635e+00,  9.7636e-01,  4.9158e-03],\n",
       "        [ 9.8785e-04, -6.5087e-02,  2.2144e+00],\n",
       "        [-1.5933e+00, -1.3786e+00, -5.7729e-02]], grad_fn=<AddBackward0>)"
      ]
     },
     "execution_count": 14,
     "metadata": {},
     "output_type": "execute_result"
    }
   ],
   "source": [
    "torch.exp(0.5*logvar)*torch.randn_like(mu) + mu"
   ]
  },
  {
   "cell_type": "code",
   "execution_count": 15,
   "id": "f8f60bb7",
   "metadata": {},
   "outputs": [],
   "source": [
    "f1_org = NNvae.XY_train[:,-1].numpy()\n",
    "f1_pred = dec_output[:,-1].detach().numpy()\n",
    "f1_org2 = NNvae.XY_test[:,-1].numpy()\n",
    "f1_pred2 = dec_output2[:,-1].detach().numpy()"
   ]
  },
  {
   "cell_type": "code",
   "execution_count": 16,
   "id": "f56597c9",
   "metadata": {},
   "outputs": [
    {
     "data": {
      "text/plain": [
       "(array([535.,   0., 534.,   0., 536., 535.,   0., 268., 268., 804.]),\n",
       " array([-1. , -0.8, -0.6, -0.4, -0.2,  0. ,  0.2,  0.4,  0.6,  0.8,  1. ],\n",
       "       dtype=float32),\n",
       " <BarContainer object of 10 artists>)"
      ]
     },
     "execution_count": 16,
     "metadata": {},
     "output_type": "execute_result"
    },
    {
     "data": {
      "image/png": "[encoded data removed]",
      "text/plain": [
       "<Figure size 432x288 with 1 Axes>"
      ]
     },
     "metadata": {
      "needs_background": "light"
     },
     "output_type": "display_data"
    }
   ],
   "source": [
    "plt.hist(f1_org)"
   ]
  },
  {
   "cell_type": "code",
   "execution_count": 17,
   "id": "70758b0e",
   "metadata": {},
   "outputs": [
    {
     "data": {
      "text/plain": [
       "(array([ 290.,  292.,  220.,  277.,  265.,  739.,   71.,  221.,   34.,\n",
       "        1071.]),\n",
       " array([-0.99665254, -0.80492043, -0.6131884 , -0.42145628, -0.22972418,\n",
       "        -0.03799209,  0.15374   ,  0.3454721 ,  0.5372042 ,  0.72893625,\n",
       "         0.92066836], dtype=float32),\n",
       " <BarContainer object of 10 artists>)"
      ]
     },
     "execution_count": 17,
     "metadata": {},
     "output_type": "execute_result"
    },
    {
     "data": {
      "image/png": "[encoded data removed]",
      "text/plain": [
       "<Figure size 432x288 with 1 Axes>"
      ]
     },
     "metadata": {
      "needs_background": "light"
     },
     "output_type": "display_data"
    }
   ],
   "source": [
    "plt.hist(f1_pred)"
   ]
  },
  {
   "cell_type": "code",
   "execution_count": 18,
   "id": "8a1f61a6",
   "metadata": {},
   "outputs": [
    {
     "data": {
      "text/plain": [
       "[<matplotlib.lines.Line2D at 0x7f36b27e12d0>]"
      ]
     },
     "execution_count": 18,
     "metadata": {},
     "output_type": "execute_result"
    },
    {
     "data": {
      "image/png": "[encoded data removed]",
      "text/plain": [
       "<Figure size 432x288 with 1 Axes>"
      ]
     },
     "metadata": {
      "needs_background": "light"
     },
     "output_type": "display_data"
    }
   ],
   "source": [
    "f1_org = (f1_org + 1)*y_norm/2\n",
    "f1_pred = (f1_pred + 1)*y_norm/2\n",
    "f1_org2 = (f1_org2 + 1)*y_norm/2\n",
    "f1_pred2 = (f1_pred2 + 1)*y_norm/2\n",
    "plt.scatter(f1_org, f1_pred)\n",
    "plt.scatter(f1_org2, f1_pred2)\n",
    "plt.plot(f1_org, f1_org, color='k')"
   ]
  },
  {
   "cell_type": "code",
   "execution_count": 19,
   "id": "ec4ab378",
   "metadata": {},
   "outputs": [
    {
     "data": {
      "text/plain": [
       "2.118507"
      ]
     },
     "execution_count": 19,
     "metadata": {},
     "output_type": "execute_result"
    }
   ],
   "source": [
    "np.sqrt(np.mean((f1_org - f1_pred)**2))"
   ]
  },
  {
   "cell_type": "code",
   "execution_count": 20,
   "id": "13b9d58d",
   "metadata": {},
   "outputs": [],
   "source": [
    "XY = NNvae.XY_train"
   ]
  },
  {
   "cell_type": "code",
   "execution_count": 21,
   "id": "4e9953a6",
   "metadata": {},
   "outputs": [],
   "source": [
    "indices = XY[:,-1]==-1\n",
    "data0 = XY[indices]\n",
    "indices = XY[:,-1]==1\n",
    "data1 = XY[indices]\n",
    "\n",
    "f10 = data0[:,1].numpy()\n",
    "f11 = data1[:,1].numpy()"
   ]
  },
  {
   "cell_type": "code",
   "execution_count": 22,
   "id": "fb1a8bbb",
   "metadata": {},
   "outputs": [
    {
     "data": {
      "text/plain": [
       "(array([ 2.,  2.,  9., 18., 36., 67., 71., 41., 15.,  7.]),\n",
       " array([-1.990422 , -1.9496757, -1.9089292, -1.8681829, -1.8274364,\n",
       "        -1.7866901, -1.7459438, -1.7051973, -1.664451 , -1.6237046,\n",
       "        -1.5829582], dtype=float32),\n",
       " <BarContainer object of 10 artists>)"
      ]
     },
     "execution_count": 22,
     "metadata": {},
     "output_type": "execute_result"
    },
    {
     "data": {
      "image/png": "[encoded data removed]",
      "text/plain": [
       "<Figure size 432x288 with 1 Axes>"
      ]
     },
     "metadata": {
      "needs_background": "light"
     },
     "output_type": "display_data"
    }
   ],
   "source": [
    "plt.hist(f10)"
   ]
  },
  {
   "cell_type": "code",
   "execution_count": 32,
   "id": "c9dbc288",
   "metadata": {},
   "outputs": [
    {
     "data": {
      "text/plain": [
       "<matplotlib.legend.Legend at 0x7f36b00c1210>"
      ]
     },
     "execution_count": 32,
     "metadata": {},
     "output_type": "execute_result"
    },
    {
     "data": {
      "image/png": "[encoded data removed]",
      "text/plain": [
       "<Figure size 432x288 with 1 Axes>"
      ]
     },
     "metadata": {
      "needs_background": "light"
     },
     "output_type": "display_data"
    }
   ],
   "source": [
    "y = XY[:,-1].numpy()\n",
    "z0 = z[:,0].detach().flatten().numpy()\n",
    "z1 = z[:,1].detach().flatten().numpy()\n",
    "z2 = z[:,2].detach().flatten().numpy()\n",
    "plt.scatter(y,z0,label='z0',marker='.', s=2)\n",
    "plt.scatter(y,z1,label='z1',marker='*',s=2)\n",
    "plt.scatter(y,z2,label='z2',marker='+', s=2)\n",
    "plt.legend()"
   ]
  },
  {
   "cell_type": "code",
   "execution_count": 24,
   "id": "d7f69a35",
   "metadata": {},
   "outputs": [
    {
     "data": {
      "text/plain": [
       "tensor([[ 0.2991,  0.1836, -0.0084],\n",
       "        [-0.8390,  0.0879, -0.8261],\n",
       "        [-0.4557, -0.2386,  1.2959],\n",
       "        ...,\n",
       "        [ 0.8600,  0.9438,  0.0516],\n",
       "        [ 0.0090, -0.0236,  1.7274],\n",
       "        [ 0.1906, -1.3912, -0.0420]], grad_fn=<ReshapeAliasBackward0>)"
      ]
     },
     "execution_count": 24,
     "metadata": {},
     "output_type": "execute_result"
    }
   ],
   "source": [
    "z"
   ]
  }
 ],
 "metadata": {
  "kernelspec": {
   "display_name": "Python 3 (ipykernel)",
   "language": "python",
   "name": "python3"
  },
  "language_info": {
   "codemirror_mode": {
    "name": "ipython",
    "version": 3
   },
   "file_extension": ".py",
   "mimetype": "text/x-python",
   "name": "python",
   "nbconvert_exporter": "python",
   "pygments_lexer": "ipython3",
   "version": "3.7.11"
  }
 },
 "nbformat": 4,
 "nbformat_minor": 5
}
